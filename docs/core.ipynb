{
 "cells": [
  {
   "attachments": {},
   "cell_type": "markdown",
   "metadata": {},
   "source": [
    "The core objects you deal with in resonances are `Simulation`, `Body`, and `MMR` (either `ThreeBody` or `TwoBody`). All of them are available under the main `namespace` and can be invoked directly."
   ]
  },
  {
   "cell_type": "code",
   "execution_count": 1,
   "metadata": {},
   "outputs": [],
   "source": [
    "import resonances\n",
    "\n",
    "sim = resonances.Simulation()\n",
    "body = resonances.Body()"
   ]
  },
  {
   "attachments": {},
   "cell_type": "markdown",
   "metadata": {},
   "source": [
    "If you want to create a mean-motion resonance, you have to specify all integers or use a short notation."
   ]
  },
  {
   "cell_type": "code",
   "execution_count": 2,
   "metadata": {},
   "outputs": [
    {
     "data": {
      "text/plain": [
       "'4J-2S-1'"
      ]
     },
     "execution_count": 2,
     "metadata": {},
     "output_type": "execute_result"
    }
   ],
   "source": [
    "mmr = resonances.ThreeBody([4, -2, -1, 0, 0, -1], ['Jupiter', 'Saturn'])\n",
    "mmr = resonances.ThreeBody('4J-2S-1')\n",
    "mmr.to_short()"
   ]
  },
  {
   "attachments": {},
   "cell_type": "markdown",
   "metadata": {},
   "source": [
    "The short notation consists of the integers for mean longitudes of planets and an asteroid and the first letters of the chosen planets. For more details, see the paper: *Smirnov, E. A. & Shevchenko, I. I. Massive identification of asteroids in three-body resonances. Icarus 222, 220–228 (2013)*.\n",
    "\n",
    "There is an ambiguity for Mars and Mercury because both planets have the same first letter. Thus, the app uses the following rule:\n",
    "\n",
    "- `M` is for Mars.\n",
    "- `R` is for Mercury.\n",
    "\n",
    "Actually, the app follows the notation introduced in `mercury` package developed by Chambers (Chambers, 1999).\n",
    "\n",
    "The order of the planets is natural, from the Sun. So if there are two planets, the first one should be the planet that is closer to the Sun. `4M-2S-1` is correct. `3S-1J-1` is incorrect.\n",
    "\n",
    "While you can directly specify the type of the resonance (either `TwoBody` or `ThreeBody`), it is recommended to use a special function that detects everything automatically based on the short notation."
   ]
  },
  {
   "cell_type": "code",
   "execution_count": 3,
   "metadata": {},
   "outputs": [
    {
     "data": {
      "text/plain": [
       "'1J-1'"
      ]
     },
     "execution_count": 3,
     "metadata": {},
     "output_type": "execute_result"
    }
   ],
   "source": [
    "mmr = resonances.create_mmr('1J-1')\n",
    "mmr.to_short()"
   ]
  },
  {
   "cell_type": "code",
   "execution_count": 4,
   "metadata": {},
   "outputs": [
    {
     "data": {
      "text/plain": [
       "'4J-2S-1'"
      ]
     },
     "execution_count": 4,
     "metadata": {},
     "output_type": "execute_result"
    }
   ],
   "source": [
    "mmr = resonances.create_mmr('4J-2S-1')\n",
    "mmr.to_short()"
   ]
  },
  {
   "attachments": {},
   "cell_type": "markdown",
   "metadata": {},
   "source": [
    "Note that the first integer should be positive, as well as they should follow the D'alembert rule (the sum is equal to `0`). Otherwise, you will get an exception:"
   ]
  },
  {
   "cell_type": "code",
   "execution_count": 5,
   "metadata": {},
   "outputs": [
    {
     "name": "stdout",
     "output_type": "stream",
     "text": [
      "Sum of integers in a resonance should follow the D'Alembert rule. Given 4, -2, -1, 0, 0, 0, the sum is equal to 1.\n"
     ]
    }
   ],
   "source": [
    "try:\n",
    "    mmr = resonances.ThreeBody([4, -2, -1, 0, 0, 0], ['Jupiter', 'Saturn'])\n",
    "except Exception as exception:\n",
    "    print(str(exception))\n",
    "    pass"
   ]
  },
  {
   "attachments": {},
   "cell_type": "markdown",
   "metadata": {},
   "source": [
    "While this package was created to identify the resonances in the Solar system, one might run such simulations very quickly."
   ]
  },
  {
   "cell_type": "code",
   "execution_count": 6,
   "metadata": {},
   "outputs": [],
   "source": [
    "sim = resonances.Simulation()\n",
    "sim.create_solar_system()"
   ]
  },
  {
   "attachments": {},
   "cell_type": "markdown",
   "metadata": {},
   "source": [
    "This creates a simulation with the Sun, all planets, and Pluto. Now you can add small bodies. "
   ]
  },
  {
   "attachments": {},
   "cell_type": "markdown",
   "metadata": {},
   "source": [
    "## Bodies \n",
    "\n",
    "There are two ways how to do that: either manually by specifying all orbital elements or by providing the object's number in the AstDyS catalogue. **Note** that the purpose of supporting the AstDyS catalogue is not to limit a researcher by only numbered asteroids, but to simplify any simulation that studies asteroids. As it is shown below, one can add a custom object (i.e., a TNO) by specifying all the initial data. Please be aware of keeping the consistency across the initial epoch for all bodies added. This should be handled manually by a user.\n",
    "\n",
    "Note that it is mandatory to specify the resonance for each object (and it should be an instance of `MMR`, not string)!"
   ]
  },
  {
   "cell_type": "code",
   "execution_count": 7,
   "metadata": {},
   "outputs": [],
   "source": [
    "sim.add_body({'a': 2.0, 'e': 0.1, 'inc': 0.5, 'Omega': 3.0, 'omega': 3.0, 'M': 3.0}, mmr)\n",
    "sim.add_body('463', mmr, name='Lola')"
   ]
  },
  {
   "attachments": {},
   "cell_type": "markdown",
   "metadata": {},
   "source": [
    "Note:\n",
    "\n",
    "1. The names of the variables are exactly the same as they are in `rebound`. There is no need to re-learn anything.\n",
    "2. All values should be in radians. No degrees. For the AstDyS catalogue, it is done automatically.\n",
    "3. You may specify the third parameter `name`, which will be used in summaries and plots."
   ]
  },
  {
   "attachments": {},
   "cell_type": "markdown",
   "metadata": {},
   "source": [
    "By default, the package uses as initial date the date of AstDyS Catalogue, which is equal at the moment $\\mathrm{MJD} = 60000$. This value is stored in Config object: `catalog.date` (for more details, see [the corresponding section](../config)). When you add a body to the simulation, the date is set automatically based on the default value. You can manipulate this config value to set another initial date. However, you would have to adjust all bodies' data to the new epoch. For planets, `rebound` performs this automatically."
   ]
  },
  {
   "attachments": {},
   "cell_type": "markdown",
   "metadata": {},
   "source": [
    "Note, if AstDyS catalogue is already downloaded, the package **will not check** whether it is updated. On the contrary, it will use the old version. However, the `astdys` component has a special method `rebuild' that updates the catalogue. Hence, one might use this method for the final run."
   ]
  },
  {
   "cell_type": "code",
   "execution_count": 8,
   "metadata": {},
   "outputs": [],
   "source": [
    "from resonances.data.astdys import astdys\n",
    "astdys.rebuild()"
   ]
  },
  {
   "attachments": {},
   "cell_type": "markdown",
   "metadata": {},
   "source": [
    "It is a good idea to specify before running the simulation what do you want to save. If you do not need figures, it is a good idea to disable them. It will definitely save some time. Also, if you do not need the time series for all asteroids, which can require a lot of space if there are many objects (>1000), then simply disable them."
   ]
  },
  {
   "cell_type": "code",
   "execution_count": 9,
   "metadata": {},
   "outputs": [],
   "source": [
    "sim.save = True\n",
    "sim.plot = False\n",
    "sim.save_only_undetermined = True"
   ]
  },
  {
   "attachments": {},
   "cell_type": "markdown",
   "metadata": {},
   "source": [
    "Here I define that I want to save some data but only for the objects that cannot be precisely identified (see [Libration section](../libration); statuses lower than `0`), and I do not want to have any plots.\n",
    "\n",
    "Please be aware of [default values](../config) — it saves some space for each simulation. There is no need to override if you are OK with them.\n",
    "\n",
    "You may also want to change the output directory — just rewrite the config `sim.save_path`.\n",
    "\n",
    "You may add as many objects as you want. However, when the number of asteroids is very high, it might delay the integration process. The usual suggestion is to integrate 100-1000 objects simultaneously, but it depends on the computer's characteristics.\n",
    "\n",
    "Do not forget to specify the time interval and the number of output points. The default values are good for the resonances in the main belt but not for all possible scenarios. Note that the time used by `rebound` is in years divided to 2π."
   ]
  },
  {
   "cell_type": "code",
   "execution_count": 10,
   "metadata": {},
   "outputs": [],
   "source": [
    "sim.tmax = 628319\n",
    "sim.Nout = 6283\n",
    "sim.dt = 1.0"
   ]
  },
  {
   "attachments": {},
   "cell_type": "markdown",
   "metadata": {},
   "source": [
    "When you are ready, just run the simulation by running `sim.run()`."
   ]
  },
  {
   "cell_type": "code",
   "execution_count": 11,
   "metadata": {},
   "outputs": [],
   "source": [
    "sim.run()"
   ]
  },
  {
   "attachments": {},
   "cell_type": "markdown",
   "metadata": {},
   "source": [
    "It might take some time while the app calculates the positions. For the default values (`dt=0.1`), it takes approximately 1-2 minutes. Feel free for testing purposes to increase the time step (`dt=1.0`) or decrease the time interval.\n",
    "\n",
    "After the `run`, you can access the data. Mostly, they are stored in `Body` objects. There is a list of them in the Simulation object:"
   ]
  },
  {
   "cell_type": "code",
   "execution_count": 12,
   "metadata": {},
   "outputs": [
    {
     "name": "stdout",
     "output_type": "stream",
     "text": [
      "asteroid\n",
      "Lola\n"
     ]
    }
   ],
   "source": [
    "for body in sim.bodies:\n",
    "    print(body.name)"
   ]
  },
  {
   "attachments": {},
   "cell_type": "markdown",
   "metadata": {},
   "source": [
    "Each Body object has many attributes you might be interested in. The full list is available in the source code. Here I would mention the following:\n",
    "\n",
    "- `body.angle` — the values of the resonant angle saved per each time step (`sim.Nout` — the number of steps).\n",
    "- `body.axis` — the values of semi-major axis. — `body.axis_filtered` — the filtered values of semi-major axis.\n",
    "- `body.ecc` — the values of eccentricity.\n",
    "- `body.initial_data` — the dictionary of initial data. — `sim.times` — the list of times of integration.\n",
    "\n",
    "The body object also has information about the librations, frequencies of oscillations and so on (see [Libration module](../libration)).\n",
    "\n",
    "## Manipulations\n",
    "\n",
    "Now you can manipulate these objects as you want. For example, you can plot `angle vs time`:"
   ]
  },
  {
   "cell_type": "code",
   "execution_count": 13,
   "metadata": {},
   "outputs": [
    {
     "data": {
      "text/plain": [
       "[<matplotlib.lines.Line2D at 0x29c666090>]"
      ]
     },
     "execution_count": 13,
     "metadata": {},
     "output_type": "execute_result"
    },
    {
     "data": {
      "image/png": "[encoded data removed]",
      "text/plain": [
       "<Figure size 600x200 with 1 Axes>"
      ]
     },
     "metadata": {},
     "output_type": "display_data"
    }
   ],
   "source": [
    "import matplotlib.pyplot as plt\n",
    "body = sim.bodies[1]\n",
    "plt.figure(figsize=(6, 2))\n",
    "plt.plot(sim.times, body.angle)"
   ]
  },
  {
   "attachments": {},
   "cell_type": "markdown",
   "metadata": {},
   "source": [
    "It does not look good because `matplotlib` interpolates the breaks. Let us switch them off and also transform time into real years."
   ]
  },
  {
   "cell_type": "code",
   "execution_count": 14,
   "metadata": {},
   "outputs": [
    {
     "data": {
      "text/plain": [
       "[<matplotlib.lines.Line2D at 0x29d676590>]"
      ]
     },
     "execution_count": 14,
     "metadata": {},
     "output_type": "execute_result"
    },
    {
     "data": {
      "image/png": "[encoded data removed]",
      "text/plain": [
       "<Figure size 600x200 with 1 Axes>"
      ]
     },
     "metadata": {},
     "output_type": "display_data"
    }
   ],
   "source": [
    "import numpy as np\n",
    "plt.figure(figsize=(6, 2))\n",
    "plt.plot(sim.times/(2*np.pi), body.angle, linestyle='', marker=',')"
   ]
  },
  {
   "attachments": {},
   "cell_type": "markdown",
   "metadata": {},
   "source": [
    "Now you might see that the resonant angle librates.\n",
    "\n",
    "If you enable `plot` option, then the app will create a plot that will contain such resonant angle and some other variables. However, if you need something specific, you can do this by yourself by manipulating `resonances.Simulation` and `resonances.Body` objects."
   ]
  }
 ],
 "metadata": {
  "kernelspec": {
   "display_name": "Python 3",
   "language": "python",
   "name": "python3"
  },
  "language_info": {
   "codemirror_mode": {
    "name": "ipython",
    "version": 3
   },
   "file_extension": ".py",
   "mimetype": "text/x-python",
   "name": "python",
   "nbconvert_exporter": "python",
   "pygments_lexer": "ipython3",
   "version": "3.11.1"
  },
  "orig_nbformat": 4,
  "vscode": {
   "interpreter": {
    "hash": "cd427db76977a9ac7182f48fec693ea25b2d6de175c77dfc5a78e40d10994c7e"
   }
  }
 },
 "nbformat": 4,
 "nbformat_minor": 2
}
